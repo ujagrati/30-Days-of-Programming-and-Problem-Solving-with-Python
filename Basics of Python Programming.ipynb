{
 "cells": [
  {
   "cell_type": "code",
   "execution_count": 4,
   "id": "44dbbca9",
   "metadata": {},
   "outputs": [
    {
     "name": "stdout",
     "output_type": "stream",
     "text": [
      "10 20\n",
      "200\n"
     ]
    }
   ],
   "source": [
    "length=10 #area of rectangle\n",
    "breadth=20\n",
    "print(length,breadth)\n",
    "area= length*breadth\n",
    "print(area)"
   ]
  },
  {
   "cell_type": "code",
   "execution_count": 6,
   "id": "885b0ce6",
   "metadata": {},
   "outputs": [
    {
     "name": "stdout",
     "output_type": "stream",
     "text": [
      "Enter string 1allah the best\n",
      "allah the best\n"
     ]
    }
   ],
   "source": [
    "str1= input(\"Enter string 1\") #print string\n",
    "print (str1)\n"
   ]
  },
  {
   "cell_type": "code",
   "execution_count": 7,
   "id": "6c5aaf9c",
   "metadata": {},
   "outputs": [
    {
     "name": "stdout",
     "output_type": "stream",
     "text": [
      "enter number 123\n",
      "23\n"
     ]
    }
   ],
   "source": [
    "number1 = int(input(\"enter number 1\")) #print number\n",
    "print (number1)"
   ]
  },
  {
   "cell_type": "code",
   "execution_count": 14,
   "id": "224025b3",
   "metadata": {},
   "outputs": [
    {
     "name": "stdout",
     "output_type": "stream",
     "text": [
      "please enter number\n",
      "23\n",
      "<class 'str'>\n",
      "after conversion\n",
      "<class 'int'>\n"
     ]
    }
   ],
   "source": [
    "print('please enter number')  #after conversion number\n",
    "num1= input()\n",
    "print(type(num1))\n",
    "print(\"after conversion\")\n",
    "num1= int(num1)\n",
    "print(type(num1))"
   ]
  },
  {
   "cell_type": "code",
   "execution_count": 15,
   "id": "ab767a00",
   "metadata": {},
   "outputs": [
    {
     "name": "stdout",
     "output_type": "stream",
     "text": [
      "enter length23\n",
      "enter breadth23\n",
      "529\n"
     ]
    }
   ],
   "source": [
    "length = int(input(\"enter length\")) #area using inputs from user\n",
    "breadth = int(input(\"enter breadth\"))\n",
    "area= length*breadth\n",
    "print(area)\n"
   ]
  },
  {
   "cell_type": "code",
   "execution_count": 18,
   "id": "1730e4a8",
   "metadata": {},
   "outputs": [
    {
     "name": "stdout",
     "output_type": "stream",
     "text": [
      "enter number23\n",
      "enter numberr23.45\n",
      "46.45\n"
     ]
    }
   ],
   "source": [
    "number = int(input(\"enter number\")) #addition of float and int\n",
    "numberr = float(input(\"enter numberr\"))\n",
    "addition = number + numberr\n",
    "print(addition)"
   ]
  },
  {
   "cell_type": "code",
   "execution_count": 24,
   "id": "19eca9ca",
   "metadata": {},
   "outputs": [
    {
     "name": "stdout",
     "output_type": "stream",
     "text": [
      "enter nameasha\n",
      "enter age in years12.2\n",
      "choose F/M/NBF\n",
      "enter height in cms123.2\n",
      "the user details are as follows:\n",
      "name is asha\n",
      "age is 12.2\n",
      "gender is F\n",
      "height is 123.2\n"
     ]
    }
   ],
   "source": [
    "name = input(\"enter name\")          #create user details \n",
    "age = eval(input(\"enter age in years\")) \n",
    "gender = input(\"choose F/M/NB\")\n",
    "height= eval(input(\"enter height in cms\"))\n",
    "print(\"the user details are as follows:\")\n",
    "print (\"name is\",name)\n",
    "print (\"age is\",age)\n",
    "print (\"gender is\",gender)\n",
    "print (\"height is\",height)"
   ]
  },
  {
   "cell_type": "code",
   "execution_count": 32,
   "id": "bd5a0708",
   "metadata": {},
   "outputs": [
    {
     "name": "stdout",
     "output_type": "stream",
     "text": [
      "enter the radius of circle23.33\n",
      "1709.0671459999996 1709.07\n"
     ]
    }
   ],
   "source": [
    "radius= eval(input(\"enter the radius of circle\")) #area of circle\n",
    "pi= 3.14\n",
    "area= pi*radius*radius\n",
    "print(area,   format(area,'.2f'))"
   ]
  },
  {
   "cell_type": "code",
   "execution_count": 33,
   "id": "d3275000",
   "metadata": {},
   "outputs": [
    {
     "name": "stdout",
     "output_type": "stream",
     "text": [
      "     23.12\n",
      "23.12     \n"
     ]
    }
   ],
   "source": [
    "print(format(23.12345678,\"10.2f\")) #Right Justification\n",
    "print(format(\"hello world\",\"20s\"))\n",
    "print(format(23.12345678,\"<10.2f\")) #Left Justification\n",
    "print(format(\"hello world\",\">20s\"))"
   ]
  },
  {
   "cell_type": "code",
   "execution_count": 39,
   "id": "6952cf5d",
   "metadata": {},
   "outputs": [
    {
     "name": "stdout",
     "output_type": "stream",
     "text": [
      "        14\n",
      "14        \n",
      "    31.46%\n",
      "  3.12e+01\n"
     ]
    }
   ],
   "source": [
    "print(format(20,\"10x\")) #formatting integers to hexadecimal integers\n",
    "print(format(20,\"<10x\"))\n",
    "print (format(0.3146,\"10.2%\")) #formatting percentages\n",
    "print(format(31.2345,\"10.2e\")) #formatting scientific notations\n"
   ]
  },
  {
   "cell_type": "code",
   "execution_count": 41,
   "id": "193c0251",
   "metadata": {},
   "outputs": [
    {
     "name": "stdout",
     "output_type": "stream",
     "text": [
      "enter base of triangle3\n",
      "enter height of triangle4\n",
      "hypotenuse derived is  5.0\n"
     ]
    }
   ],
   "source": [
    "import math  #hypotenuse for right angled triangle\n",
    "base = eval(input(\"enter base of triangle\"))\n",
    "height = eval(input(\"enter height of triangle\"))\n",
    "hypotenuse = math.sqrt((base*base)+(height*height))\n",
    "print(\"hypotenuse derived is \", hypotenuse)"
   ]
  },
  {
   "cell_type": "code",
   "execution_count": 46,
   "id": "e48f1e94",
   "metadata": {},
   "outputs": [
    {
     "name": "stdout",
     "output_type": "stream",
     "text": [
      "Letter\tASCII value\n",
      "b \t 98\n",
      "B \t 66\n",
      "difference between ascii values of two letters\n",
      "32\n"
     ]
    }
   ],
   "source": [
    "char1= 'b'\n",
    "char2= 'B'\n",
    "print('Letter\\tASCII value')\n",
    "print(char1 ,'\\t', ord(char1))\n",
    "print(char2,'\\t', ord(char2))\n",
    "print(\"difference between ascii values of two letters\")\n",
    "print(ord(char1)-ord(char2))"
   ]
  },
  {
   "cell_type": "code",
   "execution_count": null,
   "id": "fd8cfad3",
   "metadata": {},
   "outputs": [],
   "source": []
  }
 ],
 "metadata": {
  "kernelspec": {
   "display_name": "Python 3",
   "language": "python",
   "name": "python3"
  },
  "language_info": {
   "codemirror_mode": {
    "name": "ipython",
    "version": 3
   },
   "file_extension": ".py",
   "mimetype": "text/x-python",
   "name": "python",
   "nbconvert_exporter": "python",
   "pygments_lexer": "ipython3",
   "version": "3.8.8"
  }
 },
 "nbformat": 4,
 "nbformat_minor": 5
}
