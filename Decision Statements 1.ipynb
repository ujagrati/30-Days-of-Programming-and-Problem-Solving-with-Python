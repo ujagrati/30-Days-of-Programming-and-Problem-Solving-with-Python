{
 "cells": [
  {
   "cell_type": "code",
   "execution_count": 3,
   "id": "e3606945",
   "metadata": {},
   "outputs": [
    {
     "name": "stdout",
     "output_type": "stream",
     "text": [
      "enter three numbers1,2,3\n",
      "1 2 3\n",
      "p>q>r is False\n",
      "p<q<r is True\n",
      "(p<q) and (q<r) True\n",
      "(p<q) or (q<r) True\n"
     ]
    }
   ],
   "source": [
    "p,q,r= eval(input(\"enter three numbers\")) #comparison between three variables\n",
    "print (p,q,r)\n",
    "print(\"p>q>r is\", p>q>r)\n",
    "print(\"p<q<r is\" , p<q<r)\n",
    "print(\"(p<q) and (q<r)\", (p<q) and (q<r))\n",
    "print(\"(p<q) or (q<r)\" , (p<q) or (q<r))"
   ]
  },
  {
   "cell_type": "code",
   "execution_count": 5,
   "id": "8e7c8346",
   "metadata": {},
   "outputs": [
    {
     "name": "stdout",
     "output_type": "stream",
     "text": [
      "enter radius of circle23\n",
      "the area is  1661.9025137490005\n"
     ]
    }
   ],
   "source": [
    "from math import pi  #radius>0\n",
    "radius= eval(input(\"enter radius of circle\"))\n",
    "if radius>0:\n",
    "    area= pi*radius*radius\n",
    "print(\"the area is \", area)"
   ]
  },
  {
   "cell_type": "code",
   "execution_count": 8,
   "id": "a8eeb838",
   "metadata": {},
   "outputs": [
    {
     "name": "stdout",
     "output_type": "stream",
     "text": [
      "enter sales for the month1200\n",
      "salary for the month 11048.0\n"
     ]
    }
   ],
   "source": [
    "sales= eval(input(\"enter sales for the month\"))\n",
    "if sales>=100000:\n",
    "    basic=4000\n",
    "    HRA= (20*basic)/100\n",
    "    DA= (110*basic)/100\n",
    "    incentive= sales*10/100\n",
    "    conveyance=500\n",
    "    bonus=1000\n",
    "else:\n",
    "        basic=4000\n",
    "        HRA= (10*basic)/100\n",
    "        DA= (110*basic)/100\n",
    "        incentive= sales*4/100\n",
    "        conveyance=500\n",
    "        bonus=500\n",
    "        \n",
    "salary= sales+basic+HRA+DA+incentive+conveyance+bonus\n",
    "print(\"salary for the month\", salary)"
   ]
  },
  {
   "cell_type": "code",
   "execution_count": 12,
   "id": "ea7d26b8",
   "metadata": {},
   "outputs": [
    {
     "name": "stdout",
     "output_type": "stream",
     "text": [
      "enter a number25\n",
      "number is divisible by 5 or 10\n"
     ]
    }
   ],
   "source": [
    "number= eval(input(\"enter a number\"))\n",
    "if number%5==0 and number%10 ==0:\n",
    "    print(\"number is divisible by 5 and 10\")\n",
    "elif number%5==0 or number%10 ==0:\n",
    "    print(\"number is divisible by 5 or 10\")\n",
    "else:\n",
    "    print(\"number not divisible neither by 5 nor 10\")\n",
    "    "
   ]
  },
  {
   "cell_type": "code",
   "execution_count": null,
   "id": "ed5b1abd",
   "metadata": {},
   "outputs": [],
   "source": []
  },
  {
   "cell_type": "code",
   "execution_count": null,
   "id": "4ddcc71c",
   "metadata": {},
   "outputs": [],
   "source": []
  }
 ],
 "metadata": {
  "kernelspec": {
   "display_name": "Python 3",
   "language": "python",
   "name": "python3"
  },
  "language_info": {
   "codemirror_mode": {
    "name": "ipython",
    "version": 3
   },
   "file_extension": ".py",
   "mimetype": "text/x-python",
   "name": "python",
   "nbconvert_exporter": "python",
   "pygments_lexer": "ipython3",
   "version": "3.8.8"
  }
 },
 "nbformat": 4,
 "nbformat_minor": 5
}
