{
 "cells": [
  {
   "cell_type": "code",
   "execution_count": 2,
   "id": "7dd82cf1",
   "metadata": {},
   "outputs": [
    {
     "name": "stdout",
     "output_type": "stream",
     "text": [
      "enter selling price66\n",
      "enter cost price6\n",
      "profit earned is  60\n"
     ]
    }
   ],
   "source": [
    "SP= eval(input(\"enter selling price\")) #find profit\n",
    "CP= eval(input(\"enter cost price\"))\n",
    "profit= SP-CP\n",
    "print(\"profit earned is \", profit)\n"
   ]
  },
  {
   "cell_type": "code",
   "execution_count": 3,
   "id": "48b37577",
   "metadata": {},
   "outputs": [
    {
     "name": "stdout",
     "output_type": "stream",
     "text": [
      "Enter a number33\n",
      "cube is  35937\n",
      "square is  1089\n"
     ]
    }
   ],
   "source": [
    "number1= eval(input(\"Enter a number\"))  #squares and cubes\n",
    "square= number1*number1\n",
    "cube= number1*number1*number1\n",
    "print(\"cube is \",cube)\n",
    "print(\"square is \",square)"
   ]
  },
  {
   "cell_type": "code",
   "execution_count": 6,
   "id": "eac28294",
   "metadata": {},
   "outputs": [
    {
     "name": "stdout",
     "output_type": "stream",
     "text": [
      "enter principal23\n",
      "enter rate23\n",
      "enter time23\n",
      "simple interest is 121.67\n"
     ]
    }
   ],
   "source": [
    "principal = eval(input(\"enter principal\")) #simple interest\n",
    "rate = eval(input(\"enter rate\"))\n",
    "time = eval(input(\"enter time\"))\n",
    "simple_interest= (principal*rate*time)/100\n",
    "print(\"simple interest is\", simple_interest)"
   ]
  },
  {
   "cell_type": "code",
   "execution_count": 8,
   "id": "24323785",
   "metadata": {},
   "outputs": [
    {
     "name": "stdout",
     "output_type": "stream",
     "text": [
      "enter the degree in celcius29\n",
      "degree in fahrenheit 84.2\n"
     ]
    }
   ],
   "source": [
    "celcius = eval(input(\"enter the degree in celcius\")) #celcius and fahrenheit\n",
    "fahrenheit= (9/5)*celcius+32\n",
    "print(\"degree in fahrenheit\",fahrenheit)"
   ]
  },
  {
   "cell_type": "code",
   "execution_count": 12,
   "id": "04d8920e",
   "metadata": {},
   "outputs": [
    {
     "name": "stdout",
     "output_type": "stream",
     "text": [
      "enter weight in grams1250\n",
      "weight in kilograms is 1 kg 250 g\n"
     ]
    }
   ],
   "source": [
    "W1= eval(input(\"enter weight in grams\")) #Metric conversion\n",
    "W2= W1//1000\n",
    "W3= W1%1000\n",
    "print(\"weight in kilograms is\", W2,\"kg\",W3,\"g\")\n"
   ]
  },
  {
   "cell_type": "code",
   "execution_count": 17,
   "id": "cd899c11",
   "metadata": {},
   "outputs": [
    {
     "name": "stdout",
     "output_type": "stream",
     "text": [
      "enter a four digit number8765\n",
      "the number after reversal is 5 6 7 8\n"
     ]
    }
   ],
   "source": [
    "num= eval(input(\"enter a four digit number\"))  #reverse a four digit number\n",
    "r1= num%10\n",
    "q1= num//10\n",
    "r2= q1%10\n",
    "q2= q1//10\n",
    "r3= q2%10\n",
    "q3= q2//10\n",
    "r4= q3%10\n",
    "q4= q3//10\n",
    "print(\"the number after reversal is\",r1,r2,r3,r4)"
   ]
  },
  {
   "cell_type": "code",
   "execution_count": 18,
   "id": "fbb910fe",
   "metadata": {},
   "outputs": [
    {
     "name": "stdout",
     "output_type": "stream",
     "text": [
      "enter X1 coordinate2\n",
      "enter Y1 coordinate3\n",
      "enter X2 coordinate3\n",
      "enter Y2 coordinate4\n",
      "distance between two points is  1.4142135623730951\n"
     ]
    }
   ],
   "source": [
    "X1= eval(input(\"enter X1 coordinate\")) #distance between two points\n",
    "Y1= eval(input(\"enter Y1 coordinate\"))\n",
    "X2= eval(input(\"enter X2 coordinate\"))\n",
    "Y2= eval(input(\"enter Y2 coordinate\"))\n",
    "L= (X2-X1)**2 + (Y2-Y1)**2\n",
    "distance= L**0.5\n",
    "print (\"distance between two points is \", distance)"
   ]
  },
  {
   "cell_type": "code",
   "execution_count": 19,
   "id": "f3e68910",
   "metadata": {},
   "outputs": [
    {
     "name": "stdout",
     "output_type": "stream",
     "text": [
      "enter the cost price of the product200\n",
      "enter the central tax2\n",
      "enter the state tax5\n",
      "The total cost after GST is  214.0\n"
     ]
    }
   ],
   "source": [
    "CP= eval(input(\"enter the cost price of the product\")) #gst calculator\n",
    "CGST= eval(input(\"enter the central tax\"))\n",
    "SGST= eval(input(\"enter the state tax\"))\n",
    "total=0\n",
    "Amount_CGST= ((CGST/100)*CP)\n",
    "Amount_SGST= ((SGST/100)*CP)\n",
    "total= CP+ Amount_CGST + Amount_SGST\n",
    "print(\"The total cost after GST is \", total)"
   ]
  },
  {
   "cell_type": "code",
   "execution_count": 20,
   "id": "9e7b8d1d",
   "metadata": {},
   "outputs": [
    {
     "name": "stdout",
     "output_type": "stream",
     "text": [
      "enter number of hundred notes needed!1\n",
      "enter number of five hundred notes needed!1\n",
      "enter number of thousand notes needed!1\n",
      "the total amount withdrawn is  1600\n"
     ]
    }
   ],
   "source": [
    "hundred = eval(input(\"enter number of hundred notes needed!\"))   #ATM \n",
    "five_hundred = eval(input(\"enter number of five hundred notes needed!\"))\n",
    "thousand = eval(input(\"enter number of thousand notes needed!\"))\n",
    "total_amount= hundred*100 + five_hundred*500 + thousand*1000\n",
    "print (\"the total amount withdrawn is \", total_amount)"
   ]
  },
  {
   "cell_type": "code",
   "execution_count": 23,
   "id": "de99144a",
   "metadata": {},
   "outputs": [
    {
     "name": "stdout",
     "output_type": "stream",
     "text": [
      "enter a four digit number1234\n",
      "sum of all digits is 16\n"
     ]
    }
   ],
   "source": [
    "number= eval(input(\"enter a four digit number\")) #sum of digits of a number\n",
    "r1= number//10\n",
    "q1= number%10\n",
    "r2= q1//10\n",
    "q2= q1%10\n",
    "r3= q2//10\n",
    "q3= q2%10\n",
    "r4= q3//10\n",
    "q4= q3%10\n",
    "sum= q1+q2+q3+q4\n",
    "print(\"sum of all digits is\", sum)\n"
   ]
  },
  {
   "cell_type": "code",
   "execution_count": null,
   "id": "010d9cd9",
   "metadata": {},
   "outputs": [],
   "source": []
  }
 ],
 "metadata": {
  "kernelspec": {
   "display_name": "Python 3",
   "language": "python",
   "name": "python3"
  },
  "language_info": {
   "codemirror_mode": {
    "name": "ipython",
    "version": 3
   },
   "file_extension": ".py",
   "mimetype": "text/x-python",
   "name": "python",
   "nbconvert_exporter": "python",
   "pygments_lexer": "ipython3",
   "version": "3.8.8"
  }
 },
 "nbformat": 4,
 "nbformat_minor": 5
}
