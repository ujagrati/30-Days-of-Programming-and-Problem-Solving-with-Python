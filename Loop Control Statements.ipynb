{
 "cells": [
  {
   "cell_type": "code",
   "execution_count": 8,
   "id": "0ea310b4",
   "metadata": {},
   "outputs": [
    {
     "name": "stdout",
     "output_type": "stream",
     "text": [
      "the sum of consecutive 10 numbers is 55\n"
     ]
    }
   ],
   "source": [
    "count=0       #sum of ten consecutive numbers\n",
    "sum=0\n",
    "while count<=10:\n",
    "    sum+=count\n",
    "    count+=1\n",
    "print(\"the sum of consecutive 10 numbers is\",sum)"
   ]
  },
  {
   "cell_type": "code",
   "execution_count": 12,
   "id": "c4b37009",
   "metadata": {},
   "outputs": [
    {
     "name": "stdout",
     "output_type": "stream",
     "text": [
      "enter a number123\n",
      "the sum of the digits is 6\n"
     ]
    }
   ],
   "source": [
    "num= int(input(\"enter a number\")) #sum of digits for a number\n",
    "sum=0\n",
    "rem=0\n",
    "while num>0:\n",
    "    rem=num%10\n",
    "    num=num//10\n",
    "    sum=sum+rem\n",
    "print(\"the sum of the digits is\",sum)"
   ]
  },
  {
   "cell_type": "code",
   "execution_count": 18,
   "id": "f6dabb6b",
   "metadata": {},
   "outputs": [
    {
     "name": "stdout",
     "output_type": "stream",
     "text": [
      "enter a number1111111112\n",
      "reverse of a number is 2111111111\n"
     ]
    }
   ],
   "source": [
    "num=int(input(\"enter a number\"))  #reverse of a number\n",
    "rev=0\n",
    "while num>0:\n",
    "    rem=num%10\n",
    "    num=num//10\n",
    "    rev=rev*10+rem\n",
    "print(\"reverse of a number is\",rev)"
   ]
  },
  {
   "cell_type": "code",
   "execution_count": 19,
   "id": "af87ee97",
   "metadata": {},
   "outputs": [
    {
     "name": "stdout",
     "output_type": "stream",
     "text": [
      "the sum of numbers is 50\n"
     ]
    }
   ],
   "source": [
    "count=1   #sum of 1 to 20 divisible by 5\n",
    "sum=0\n",
    "while count<=20:\n",
    "    if count%5==0:\n",
    "        sum=sum+count\n",
    "    count=count+1\n",
    "print(\"the sum of numbers is\", sum)\n",
    "        "
   ]
  },
  {
   "cell_type": "code",
   "execution_count": 22,
   "id": "5d224766",
   "metadata": {},
   "outputs": [
    {
     "name": "stdout",
     "output_type": "stream",
     "text": [
      "enter a number3\n",
      "factorial of a number is  6\n"
     ]
    }
   ],
   "source": [
    "num=int(input(\"enter a number\")) #factorial\n",
    "fact=1\n",
    "ans=1\n",
    "while fact<=num:\n",
    "    ans=ans*fact\n",
    "    fact=fact+1\n",
    "print(\"factorial of a number is \", ans)"
   ]
  },
  {
   "cell_type": "code",
   "execution_count": 24,
   "id": "bfa3a4de",
   "metadata": {},
   "outputs": [
    {
     "name": "stdout",
     "output_type": "stream",
     "text": [
      "enter the number153\n",
      "the number 153 is armstrong number\n"
     ]
    }
   ],
   "source": [
    "num=int(input(\"enter the number\"))  #armstrong number\n",
    "sum=0\n",
    "x=num\n",
    "while num>0:\n",
    "    d=num%10\n",
    "    num=num//10\n",
    "    sum=sum+(d*d*d)\n",
    "if(x==sum):\n",
    "    print(\"the number\",x,\"is armstrong number\")\n",
    "else:\n",
    "        print(\"the number \",x, \"is not armstrong number\")\n",
    "    "
   ]
  },
  {
   "cell_type": "code",
   "execution_count": null,
   "id": "6b55a8fb",
   "metadata": {},
   "outputs": [],
   "source": []
  }
 ],
 "metadata": {
  "kernelspec": {
   "display_name": "Python 3",
   "language": "python",
   "name": "python3"
  },
  "language_info": {
   "codemirror_mode": {
    "name": "ipython",
    "version": 3
   },
   "file_extension": ".py",
   "mimetype": "text/x-python",
   "name": "python",
   "nbconvert_exporter": "python",
   "pygments_lexer": "ipython3",
   "version": "3.8.8"
  }
 },
 "nbformat": 4,
 "nbformat_minor": 5
}
